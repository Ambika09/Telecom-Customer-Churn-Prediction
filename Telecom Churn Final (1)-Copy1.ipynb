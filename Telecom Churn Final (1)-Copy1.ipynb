{
 "cells": [
  {
   "cell_type": "code",
   "execution_count": 1,
   "metadata": {},
   "outputs": [],
   "source": [
    "import numpy as np\n",
    "import pandas as pd\n",
    "import matplotlib.pyplot as plt\n",
    "%matplotlib inline\n",
    "import seaborn as sns"
   ]
  },
  {
   "cell_type": "code",
   "execution_count": 2,
   "metadata": {},
   "outputs": [
    {
     "data": {
      "text/html": [
       "<div>\n",
       "<style scoped>\n",
       "    .dataframe tbody tr th:only-of-type {\n",
       "        vertical-align: middle;\n",
       "    }\n",
       "\n",
       "    .dataframe tbody tr th {\n",
       "        vertical-align: top;\n",
       "    }\n",
       "\n",
       "    .dataframe thead th {\n",
       "        text-align: right;\n",
       "    }\n",
       "</style>\n",
       "<table border=\"1\" class=\"dataframe\">\n",
       "  <thead>\n",
       "    <tr style=\"text-align: right;\">\n",
       "      <th></th>\n",
       "      <th>rev_Mean</th>\n",
       "      <th>mou_Mean</th>\n",
       "      <th>totmrc_Mean</th>\n",
       "      <th>da_Mean</th>\n",
       "      <th>ovrmou_Mean</th>\n",
       "      <th>ovrrev_Mean</th>\n",
       "      <th>vceovr_Mean</th>\n",
       "      <th>datovr_Mean</th>\n",
       "      <th>roam_Mean</th>\n",
       "      <th>change_mou</th>\n",
       "      <th>...</th>\n",
       "      <th>forgntvl</th>\n",
       "      <th>ethnic</th>\n",
       "      <th>kid0_2</th>\n",
       "      <th>kid3_5</th>\n",
       "      <th>kid6_10</th>\n",
       "      <th>kid11_15</th>\n",
       "      <th>kid16_17</th>\n",
       "      <th>creditcd</th>\n",
       "      <th>eqpdays</th>\n",
       "      <th>Customer_ID</th>\n",
       "    </tr>\n",
       "  </thead>\n",
       "  <tbody>\n",
       "    <tr>\n",
       "      <th>0</th>\n",
       "      <td>23.9975</td>\n",
       "      <td>219.25</td>\n",
       "      <td>22.500</td>\n",
       "      <td>0.2475</td>\n",
       "      <td>0.00</td>\n",
       "      <td>0.0</td>\n",
       "      <td>0.0</td>\n",
       "      <td>0.0</td>\n",
       "      <td>0.0</td>\n",
       "      <td>-157.25</td>\n",
       "      <td>...</td>\n",
       "      <td>0.0</td>\n",
       "      <td>N</td>\n",
       "      <td>U</td>\n",
       "      <td>U</td>\n",
       "      <td>U</td>\n",
       "      <td>U</td>\n",
       "      <td>U</td>\n",
       "      <td>Y</td>\n",
       "      <td>361.0</td>\n",
       "      <td>1000001</td>\n",
       "    </tr>\n",
       "    <tr>\n",
       "      <th>1</th>\n",
       "      <td>57.4925</td>\n",
       "      <td>482.75</td>\n",
       "      <td>37.425</td>\n",
       "      <td>0.2475</td>\n",
       "      <td>22.75</td>\n",
       "      <td>9.1</td>\n",
       "      <td>9.1</td>\n",
       "      <td>0.0</td>\n",
       "      <td>0.0</td>\n",
       "      <td>532.25</td>\n",
       "      <td>...</td>\n",
       "      <td>0.0</td>\n",
       "      <td>Z</td>\n",
       "      <td>U</td>\n",
       "      <td>U</td>\n",
       "      <td>U</td>\n",
       "      <td>U</td>\n",
       "      <td>U</td>\n",
       "      <td>Y</td>\n",
       "      <td>240.0</td>\n",
       "      <td>1000002</td>\n",
       "    </tr>\n",
       "    <tr>\n",
       "      <th>2</th>\n",
       "      <td>16.9900</td>\n",
       "      <td>10.25</td>\n",
       "      <td>16.990</td>\n",
       "      <td>0.0000</td>\n",
       "      <td>0.00</td>\n",
       "      <td>0.0</td>\n",
       "      <td>0.0</td>\n",
       "      <td>0.0</td>\n",
       "      <td>0.0</td>\n",
       "      <td>-4.25</td>\n",
       "      <td>...</td>\n",
       "      <td>0.0</td>\n",
       "      <td>N</td>\n",
       "      <td>U</td>\n",
       "      <td>Y</td>\n",
       "      <td>U</td>\n",
       "      <td>U</td>\n",
       "      <td>U</td>\n",
       "      <td>Y</td>\n",
       "      <td>1504.0</td>\n",
       "      <td>1000003</td>\n",
       "    </tr>\n",
       "    <tr>\n",
       "      <th>3</th>\n",
       "      <td>38.0000</td>\n",
       "      <td>7.50</td>\n",
       "      <td>38.000</td>\n",
       "      <td>0.0000</td>\n",
       "      <td>0.00</td>\n",
       "      <td>0.0</td>\n",
       "      <td>0.0</td>\n",
       "      <td>0.0</td>\n",
       "      <td>0.0</td>\n",
       "      <td>-1.50</td>\n",
       "      <td>...</td>\n",
       "      <td>0.0</td>\n",
       "      <td>U</td>\n",
       "      <td>Y</td>\n",
       "      <td>U</td>\n",
       "      <td>U</td>\n",
       "      <td>U</td>\n",
       "      <td>U</td>\n",
       "      <td>Y</td>\n",
       "      <td>1812.0</td>\n",
       "      <td>1000004</td>\n",
       "    </tr>\n",
       "    <tr>\n",
       "      <th>4</th>\n",
       "      <td>55.2300</td>\n",
       "      <td>570.50</td>\n",
       "      <td>71.980</td>\n",
       "      <td>0.0000</td>\n",
       "      <td>0.00</td>\n",
       "      <td>0.0</td>\n",
       "      <td>0.0</td>\n",
       "      <td>0.0</td>\n",
       "      <td>0.0</td>\n",
       "      <td>38.50</td>\n",
       "      <td>...</td>\n",
       "      <td>0.0</td>\n",
       "      <td>I</td>\n",
       "      <td>U</td>\n",
       "      <td>U</td>\n",
       "      <td>U</td>\n",
       "      <td>U</td>\n",
       "      <td>U</td>\n",
       "      <td>Y</td>\n",
       "      <td>434.0</td>\n",
       "      <td>1000005</td>\n",
       "    </tr>\n",
       "  </tbody>\n",
       "</table>\n",
       "<p>5 rows × 100 columns</p>\n",
       "</div>"
      ],
      "text/plain": [
       "   rev_Mean  mou_Mean  totmrc_Mean  da_Mean  ovrmou_Mean  ovrrev_Mean  \\\n",
       "0   23.9975    219.25       22.500   0.2475         0.00          0.0   \n",
       "1   57.4925    482.75       37.425   0.2475        22.75          9.1   \n",
       "2   16.9900     10.25       16.990   0.0000         0.00          0.0   \n",
       "3   38.0000      7.50       38.000   0.0000         0.00          0.0   \n",
       "4   55.2300    570.50       71.980   0.0000         0.00          0.0   \n",
       "\n",
       "   vceovr_Mean  datovr_Mean  roam_Mean  change_mou  ...  forgntvl  ethnic  \\\n",
       "0          0.0          0.0        0.0     -157.25  ...       0.0       N   \n",
       "1          9.1          0.0        0.0      532.25  ...       0.0       Z   \n",
       "2          0.0          0.0        0.0       -4.25  ...       0.0       N   \n",
       "3          0.0          0.0        0.0       -1.50  ...       0.0       U   \n",
       "4          0.0          0.0        0.0       38.50  ...       0.0       I   \n",
       "\n",
       "   kid0_2  kid3_5  kid6_10  kid11_15  kid16_17  creditcd  eqpdays  Customer_ID  \n",
       "0       U       U        U         U         U         Y    361.0      1000001  \n",
       "1       U       U        U         U         U         Y    240.0      1000002  \n",
       "2       U       Y        U         U         U         Y   1504.0      1000003  \n",
       "3       Y       U        U         U         U         Y   1812.0      1000004  \n",
       "4       U       U        U         U         U         Y    434.0      1000005  \n",
       "\n",
       "[5 rows x 100 columns]"
      ]
     },
     "execution_count": 2,
     "metadata": {},
     "output_type": "execute_result"
    }
   ],
   "source": [
    "df = pd.read_csv(\"Telecom_customer churn_Final (1).csv\")\n",
    "df1 = df.copy()\n",
    "df1.head()"
   ]
  },
  {
   "cell_type": "code",
   "execution_count": 3,
   "metadata": {},
   "outputs": [
    {
     "data": {
      "text/plain": [
       "(100000, 98)"
      ]
     },
     "execution_count": 3,
     "metadata": {},
     "output_type": "execute_result"
    }
   ],
   "source": [
    "churn_df = df1.drop([\"churn\",\"Customer_ID\"],axis=1)\n",
    "churn_df.shape"
   ]
  },
  {
   "cell_type": "markdown",
   "metadata": {},
   "source": [
    "### Checking For Missing Values"
   ]
  },
  {
   "cell_type": "code",
   "execution_count": 4,
   "metadata": {},
   "outputs": [
    {
     "name": "stdout",
     "output_type": "stream",
     "text": [
      "rev_Mean              357\n",
      "mou_Mean              357\n",
      "totmrc_Mean           357\n",
      "da_Mean               357\n",
      "ovrmou_Mean           357\n",
      "ovrrev_Mean           357\n",
      "vceovr_Mean           357\n",
      "datovr_Mean           357\n",
      "roam_Mean             357\n",
      "change_mou            891\n",
      "change_rev            891\n",
      "avg6mou              2839\n",
      "avg6qty              2839\n",
      "avg6rev              2839\n",
      "prizm_social_one     7388\n",
      "area                   40\n",
      "dualband                1\n",
      "refurb_new              1\n",
      "hnd_price             847\n",
      "phones                  1\n",
      "models                  1\n",
      "hnd_webcap          10189\n",
      "truck                1732\n",
      "rv                   1732\n",
      "ownrent             33706\n",
      "lor                 30190\n",
      "dwlltype            31909\n",
      "marital              1732\n",
      "adults              23019\n",
      "infobase            22079\n",
      "income              25436\n",
      "numbcars            49366\n",
      "HHstatin            37923\n",
      "dwllsize            38308\n",
      "forgntvl             1732\n",
      "ethnic               1732\n",
      "kid0_2               1732\n",
      "kid3_5               1732\n",
      "kid6_10              1732\n",
      "kid11_15             1732\n",
      "kid16_17             1732\n",
      "creditcd             1732\n",
      "eqpdays                 1\n",
      "dtype: int64\n"
     ]
    }
   ],
   "source": [
    "a = churn_df.columns[churn_df.isnull().any()]\n",
    "print(churn_df[a].isnull().sum())"
   ]
  },
  {
   "cell_type": "code",
   "execution_count": 5,
   "metadata": {},
   "outputs": [],
   "source": [
    "# Imputing missing values for numerical variables with mean\n",
    "\n",
    "churn_df[\"rev_Mean\"].fillna(np.mean(churn_df[\"rev_Mean\"]),inplace=True)\n",
    "churn_df[\"mou_Mean\"].fillna(np.mean(churn_df[\"mou_Mean\"]),inplace=True)\n",
    "churn_df[\"totmrc_Mean\"].fillna(np.mean(churn_df[\"totmrc_Mean\"]),inplace=True)\n",
    "churn_df[\"da_Mean\"].fillna(np.mean(churn_df[\"da_Mean\"]),inplace=True)\n",
    "churn_df[\"ovrmou_Mean\"].fillna(np.mean(churn_df[\"ovrmou_Mean\"]),inplace=True)\n",
    "churn_df[\"ovrrev_Mean\"].fillna(np.mean(churn_df[\"ovrrev_Mean\"]),inplace=True)\n",
    "churn_df[\"vceovr_Mean\"].fillna(np.mean(churn_df[\"vceovr_Mean\"]),inplace=True)\n",
    "churn_df[\"datovr_Mean\"].fillna(np.mean(churn_df[\"datovr_Mean\"]),inplace=True)\n",
    "churn_df[\"roam_Mean\"].fillna(np.mean(churn_df[\"roam_Mean\"]),inplace=True)\n",
    "churn_df[\"change_mou\"].fillna(np.mean(churn_df[\"change_mou\"]),inplace=True)\n",
    "churn_df[\"change_rev\"].fillna(np.mean(churn_df[\"change_rev\"]),inplace=True)\n",
    "churn_df[\"avg6mou\"].fillna(np.mean(churn_df[\"avg6mou\"]),inplace=True)\n",
    "churn_df[\"avg6qty\"].fillna(np.mean(churn_df[\"avg6qty\"]),inplace=True)\n",
    "churn_df[\"avg6rev\"].fillna(np.mean(churn_df[\"avg6rev\"]),inplace=True)\n",
    "churn_df[\"hnd_price\"].fillna(np.mean(churn_df[\"hnd_price\"]),inplace=True)\n",
    "churn_df[\"phones\"].fillna(np.mean(churn_df[\"phones\"]),inplace=True)\n",
    "churn_df[\"models\"].fillna(np.mean(churn_df[\"models\"]),inplace=True)\n",
    "churn_df[\"lor\"].fillna(np.mean(churn_df[\"lor\"]),inplace=True)\n",
    "churn_df[\"eqpdays\"].fillna(np.mean(churn_df[\"eqpdays\"]),inplace=True)"
   ]
  },
  {
   "cell_type": "code",
   "execution_count": 6,
   "metadata": {},
   "outputs": [],
   "source": [
    "# Imputing missing values for categorical variables with mode\n",
    "\n",
    "churn_df[\"prizm_social_one\"].fillna(churn_df[\"prizm_social_one\"].mode()[0],inplace=True)\n",
    "churn_df[\"area\"].fillna(churn_df[\"area\"].mode()[0],inplace=True)\n",
    "churn_df[\"dualband\"].fillna(churn_df[\"dualband\"].mode()[0],inplace=True)\n",
    "churn_df[\"refurb_new\"].fillna(churn_df[\"refurb_new\"].mode()[0],inplace=True)\n",
    "churn_df[\"hnd_webcap\"].fillna(churn_df[\"hnd_webcap\"].mode()[0],inplace=True)\n",
    "churn_df[\"truck\"].fillna(churn_df[\"truck\"].mode()[0],inplace=True)\n",
    "churn_df[\"rv\"].fillna(churn_df[\"rv\"].mode()[0],inplace=True)\n",
    "churn_df[\"ownrent\"].fillna(churn_df[\"ownrent\"].mode()[0],inplace=True)\n",
    "churn_df[\"dwlltype\"].fillna(churn_df[\"dwlltype\"].mode()[0],inplace=True)\n",
    "churn_df[\"marital\"].fillna(churn_df[\"marital\"].mode()[0],inplace=True)\n",
    "churn_df[\"adults\"].fillna(churn_df[\"adults\"].mode()[0],inplace=True)\n",
    "churn_df[\"infobase\"].fillna(churn_df[\"infobase\"].mode()[0],inplace=True)\n",
    "churn_df[\"income\"].fillna(churn_df[\"income\"].mode()[0],inplace=True)\n",
    "churn_df[\"numbcars\"].fillna(churn_df[\"numbcars\"].mode()[0],inplace=True)\n",
    "churn_df[\"HHstatin\"].fillna(churn_df[\"HHstatin\"].mode()[0],inplace=True)\n",
    "churn_df[\"dwllsize\"].fillna(churn_df[\"dwllsize\"].mode()[0],inplace=True)\n",
    "churn_df[\"forgntvl\"].fillna(churn_df[\"forgntvl\"].mode()[0],inplace=True)\n",
    "churn_df[\"ethnic\"].fillna(churn_df[\"ethnic\"].mode()[0],inplace=True)\n",
    "churn_df[\"kid0_2\"].fillna(churn_df[\"kid0_2\"].mode()[0],inplace=True)\n",
    "churn_df[\"kid3_5\"].fillna(churn_df[\"kid3_5\"].mode()[0],inplace=True)\n",
    "churn_df[\"kid6_10\"].fillna(churn_df[\"kid6_10\"].mode()[0],inplace=True)\n",
    "churn_df[\"kid11_15\"].fillna(churn_df[\"kid11_15\"].mode()[0],inplace=True)\n",
    "churn_df[\"kid16_17\"].fillna(churn_df[\"kid16_17\"].mode()[0],inplace=True)\n",
    "churn_df[\"creditcd\"].fillna(churn_df[\"creditcd\"].mode()[0],inplace=True)"
   ]
  },
  {
   "cell_type": "markdown",
   "metadata": {},
   "source": [
    "#### Converting Categorical to Numerical"
   ]
  },
  {
   "cell_type": "code",
   "execution_count": 7,
   "metadata": {},
   "outputs": [],
   "source": [
    "from sklearn.preprocessing import LabelEncoder \n",
    "labelencoder= LabelEncoder()"
   ]
  },
  {
   "cell_type": "code",
   "execution_count": 8,
   "metadata": {},
   "outputs": [],
   "source": [
    "# Encoding categorical variables into numerical equivalents using LabelEncoder\n",
    "\n",
    "churn_df[\"new_cell\"] = labelencoder.fit_transform(churn_df['new_cell'])\n",
    "churn_df['crclscod'] = labelencoder.fit_transform(churn_df['crclscod'])\n",
    "churn_df[\"asl_flag\"] = labelencoder.fit_transform(churn_df['asl_flag'])\n",
    "churn_df[\"prizm_social_one\"] = labelencoder.fit_transform(churn_df['prizm_social_one'])\n",
    "churn_df[\"area\"] = labelencoder.fit_transform(churn_df['area'])\n",
    "churn_df[\"dualband\"] = labelencoder.fit_transform(churn_df['dualband'])\n",
    "churn_df[\"refurb_new\"] = labelencoder.fit_transform(churn_df['refurb_new'])\n",
    "churn_df[\"hnd_webcap\"] = labelencoder.fit_transform(churn_df['hnd_webcap'])\n",
    "churn_df[\"ownrent\"] = labelencoder.fit_transform(churn_df['ownrent'])\n",
    "churn_df[\"dwlltype\"] = labelencoder.fit_transform(churn_df['dwlltype'])\n",
    "churn_df[\"marital\"] = labelencoder.fit_transform(churn_df['marital'])\n",
    "churn_df[\"infobase\"] = labelencoder.fit_transform(churn_df['infobase'])\n",
    "churn_df[\"HHstatin\"] = labelencoder.fit_transform(churn_df['HHstatin'])\n",
    "churn_df[\"dwllsize\"] = labelencoder.fit_transform(churn_df['dwllsize'])\n",
    "churn_df[\"ethnic\"] = labelencoder.fit_transform(churn_df['ethnic'])\n",
    "churn_df[\"kid0_2\"] = labelencoder.fit_transform(churn_df['kid0_2'])\n",
    "churn_df[\"kid3_5\"] = labelencoder.fit_transform(churn_df['kid3_5'])\n",
    "churn_df[\"kid6_10\"] = labelencoder.fit_transform(churn_df['kid6_10'])\n",
    "churn_df[\"kid11_15\"] = labelencoder.fit_transform(churn_df['kid11_15'])\n",
    "churn_df[\"kid16_17\"] = labelencoder.fit_transform(churn_df['kid16_17'])\n",
    "churn_df[\"creditcd\"] = labelencoder.fit_transform(churn_df['creditcd'])"
   ]
  },
  {
   "cell_type": "code",
   "execution_count": null,
   "metadata": {},
   "outputs": [],
   "source": []
  },
  {
   "cell_type": "markdown",
   "metadata": {},
   "source": [
    "### Scaling the Data"
   ]
  },
  {
   "cell_type": "code",
   "execution_count": 9,
   "metadata": {},
   "outputs": [],
   "source": [
    "from sklearn.preprocessing import StandardScaler"
   ]
  },
  {
   "cell_type": "code",
   "execution_count": 10,
   "metadata": {},
   "outputs": [
    {
     "data": {
      "text/plain": [
       "StandardScaler(copy=True, with_mean=True, with_std=True)"
      ]
     },
     "execution_count": 10,
     "metadata": {},
     "output_type": "execute_result"
    }
   ],
   "source": [
    "scaler = StandardScaler()\n",
    "scaler.fit(churn_df)"
   ]
  },
  {
   "cell_type": "code",
   "execution_count": 11,
   "metadata": {},
   "outputs": [],
   "source": [
    "scaled_data = scaler.transform(churn_df)"
   ]
  },
  {
   "cell_type": "code",
   "execution_count": 12,
   "metadata": {},
   "outputs": [
    {
     "data": {
      "text/plain": [
       "array([[-7.51426770e-01, -5.61416712e-01, -1.00415460e+00, ...,\n",
       "        -3.32666266e-01,  6.70812828e-01, -1.20603377e-01],\n",
       "       [-2.65639103e-02, -5.87721014e-02, -3.71234220e-01, ...,\n",
       "        -3.32666266e-01,  6.70812828e-01, -5.92375740e-01],\n",
       "       [-9.03075568e-01, -9.60098775e-01, -1.23781565e+00, ...,\n",
       "        -3.32666266e-01,  6.70812828e-01,  4.33589093e+00],\n",
       "       ...,\n",
       "       [ 2.17735540e-13,  4.33731129e-16,  3.16172879e-12, ...,\n",
       "        -3.32666266e-01, -1.49072880e+00,  1.60120673e-01],\n",
       "       [ 2.17735540e-13,  4.33731129e-16,  3.16172879e-12, ...,\n",
       "        -3.32666266e-01, -1.49072880e+00, -1.23570169e+00],\n",
       "       [ 2.17735540e-13,  4.33731129e-16,  3.16172879e-12, ...,\n",
       "        -3.32666266e-01, -1.49072880e+00, -1.50862785e+00]])"
      ]
     },
     "execution_count": 12,
     "metadata": {},
     "output_type": "execute_result"
    }
   ],
   "source": [
    "scaled_data"
   ]
  },
  {
   "cell_type": "markdown",
   "metadata": {},
   "source": [
    "## Principal Component Analysis"
   ]
  },
  {
   "cell_type": "code",
   "execution_count": 13,
   "metadata": {},
   "outputs": [],
   "source": [
    "import sklearn.decomposition as decomp"
   ]
  },
  {
   "cell_type": "code",
   "execution_count": 14,
   "metadata": {},
   "outputs": [
    {
     "data": {
      "text/plain": [
       "PCA(copy=True, iterated_power='auto', n_components=None, random_state=None,\n",
       "    svd_solver='auto', tol=0.0, whiten=False)"
      ]
     },
     "execution_count": 14,
     "metadata": {},
     "output_type": "execute_result"
    }
   ],
   "source": [
    "pca = decomp.PCA()\n",
    "pca.fit(scaled_data)"
   ]
  },
  {
   "cell_type": "code",
   "execution_count": 15,
   "metadata": {},
   "outputs": [
    {
     "name": "stdout",
     "output_type": "stream",
     "text": [
      "Components:\n",
      "[[ 1.42924413e-01  1.80274460e-01  1.17407761e-01 ... -2.62378809e-03\n",
      "  -2.41707013e-02 -6.26561593e-02]\n",
      " [ 1.93566852e-02  7.57541597e-03 -1.24717024e-03 ... -2.09818693e-03\n",
      "  -1.62145017e-02 -3.09747332e-02]\n",
      " [-4.70391911e-02  5.10649150e-02 -4.90440291e-02 ... -2.23533732e-02\n",
      "  -1.02247407e-01 -1.23164939e-01]\n",
      " ...\n",
      " [ 1.56536313e-12  1.35496891e-12 -3.98208230e-12 ...  3.22599586e-13\n",
      "  -4.61614687e-13 -9.80264481e-13]\n",
      " [-2.08420120e-11 -5.22570076e-12  3.50602888e-12 ...  3.37623592e-13\n",
      "   5.83446296e-13 -5.66628558e-13]\n",
      " [-1.65002729e-11 -1.18104969e-11 -2.40552671e-13 ... -2.02396043e-13\n",
      "  -2.52724942e-13  7.19893383e-13]]\n"
     ]
    }
   ],
   "source": [
    "print(\"Components:\")\n",
    "print(pca.components_)"
   ]
  },
  {
   "cell_type": "code",
   "execution_count": 16,
   "metadata": {},
   "outputs": [
    {
     "name": "stdout",
     "output_type": "stream",
     "text": [
      "Explained Variance Ratio:\n",
      "[2.65872685e-01 6.01634452e-02 4.87472321e-02 3.38071229e-02\n",
      " 3.21621058e-02 2.36200881e-02 2.26452335e-02 2.11491002e-02\n",
      " 1.98749460e-02 1.90417695e-02 1.73452426e-02 1.63205956e-02\n",
      " 1.44954727e-02 1.40766565e-02 1.36379236e-02 1.33091468e-02\n",
      " 1.24186056e-02 1.20436973e-02 1.10822017e-02 1.10625858e-02\n",
      " 1.07091745e-02 1.04972357e-02 1.04040784e-02 1.02205502e-02\n",
      " 1.01929115e-02 1.01507610e-02 9.96346847e-03 9.91484217e-03\n",
      " 9.72669118e-03 9.63724537e-03 9.37816109e-03 9.10005066e-03\n",
      " 8.92089127e-03 8.82198365e-03 8.63852043e-03 8.60628383e-03\n",
      " 8.32656367e-03 8.08010889e-03 7.90692768e-03 7.61122242e-03\n",
      " 7.51592410e-03 7.42655495e-03 6.90670904e-03 6.76353031e-03\n",
      " 6.68329078e-03 6.64594884e-03 6.09045191e-03 5.66852544e-03\n",
      " 5.37127390e-03 5.24848355e-03 5.16071256e-03 5.09433997e-03\n",
      " 4.80398719e-03 3.95771726e-03 3.93415665e-03 3.85039799e-03\n",
      " 3.73947408e-03 3.55289395e-03 3.44611518e-03 3.09997774e-03\n",
      " 3.04091060e-03 2.87544922e-03 2.33992744e-03 2.21714920e-03\n",
      " 2.04316463e-03 1.98191990e-03 1.49070026e-03 1.44128084e-03\n",
      " 1.24757670e-03 1.13470135e-03 1.06040943e-03 8.45064205e-04\n",
      " 6.28388768e-04 6.19714859e-04 4.89417424e-04 4.60444167e-04\n",
      " 3.98045195e-04 3.26595227e-04 2.09548073e-04 1.40922162e-04\n",
      " 1.21550601e-04 1.00191069e-04 6.17015925e-05 3.45415821e-05\n",
      " 1.47271100e-05 1.45210793e-05 1.25633171e-05 3.46996302e-06\n",
      " 8.53899953e-07 1.79849045e-07 1.71753836e-07 1.31138840e-07\n",
      " 7.35991456e-08 1.50346156e-10 2.20064471e-22 1.51241393e-22\n",
      " 1.00597012e-22 7.59202426e-23]\n"
     ]
    }
   ],
   "source": [
    "print(\"Explained Variance Ratio:\")\n",
    "print(pca.explained_variance_ratio_)"
   ]
  },
  {
   "cell_type": "code",
   "execution_count": 17,
   "metadata": {},
   "outputs": [
    {
     "data": {
      "image/png": "[encoded data removed]",
      "text/plain": [
       "<Figure size 432x288 with 1 Axes>"
      ]
     },
     "metadata": {
      "needs_background": "light"
     },
     "output_type": "display_data"
    }
   ],
   "source": [
    "plt.plot(pca.explained_variance_ratio_)\n",
    "plt.show()"
   ]
  },
  {
   "cell_type": "code",
   "execution_count": 18,
   "metadata": {},
   "outputs": [
    {
     "name": "stdout",
     "output_type": "stream",
     "text": [
      "(100000, 98)\n"
     ]
    }
   ],
   "source": [
    "from sklearn.decomposition import PCA\n",
    "# pca - keep 90% of variance\n",
    "pca = PCA(0.90)\n",
    "principal_components = pca.fit_transform(scaled_data)\n",
    "principal_df = pd.DataFrame(data = scaled_data)\n",
    "print(principal_df.shape)"
   ]
  },
  {
   "cell_type": "markdown",
   "metadata": {},
   "source": [
    "### We Select n_components as 28.\n"
   ]
  },
  {
   "cell_type": "code",
   "execution_count": 19,
   "metadata": {},
   "outputs": [],
   "source": [
    "from sklearn.decomposition import PCA"
   ]
  },
  {
   "cell_type": "code",
   "execution_count": 48,
   "metadata": {},
   "outputs": [],
   "source": [
    "pca=PCA(n_components=28)"
   ]
  },
  {
   "cell_type": "code",
   "execution_count": 49,
   "metadata": {},
   "outputs": [
    {
     "data": {
      "text/plain": [
       "PCA(copy=True, iterated_power='auto', n_components=28, random_state=None,\n",
       "    svd_solver='auto', tol=0.0, whiten=False)"
      ]
     },
     "execution_count": 49,
     "metadata": {},
     "output_type": "execute_result"
    }
   ],
   "source": [
    "pca.fit(scaled_data)"
   ]
  },
  {
   "cell_type": "code",
   "execution_count": 50,
   "metadata": {},
   "outputs": [],
   "source": [
    "x_pca=pca.transform(scaled_data)"
   ]
  },
  {
   "cell_type": "code",
   "execution_count": 51,
   "metadata": {},
   "outputs": [
    {
     "data": {
      "text/plain": [
       "(100000, 98)"
      ]
     },
     "execution_count": 51,
     "metadata": {},
     "output_type": "execute_result"
    }
   ],
   "source": [
    "scaled_data.shape"
   ]
  },
  {
   "cell_type": "code",
   "execution_count": 52,
   "metadata": {},
   "outputs": [
    {
     "data": {
      "text/plain": [
       "(100000, 28)"
      ]
     },
     "execution_count": 52,
     "metadata": {},
     "output_type": "execute_result"
    }
   ],
   "source": [
    "x_pca.shape"
   ]
  },
  {
   "cell_type": "code",
   "execution_count": 53,
   "metadata": {},
   "outputs": [],
   "source": [
    "y = df1[\"churn\"]"
   ]
  },
  {
   "cell_type": "markdown",
   "metadata": {},
   "source": [
    "### Train-Test Split"
   ]
  },
  {
   "cell_type": "code",
   "execution_count": 54,
   "metadata": {},
   "outputs": [],
   "source": [
    "from sklearn.model_selection import train_test_split\n",
    "\n",
    "X_train, X_test, y_train, y_test = train_test_split(x_pca,y,test_size = 0.3, random_state = 10)"
   ]
  },
  {
   "cell_type": "code",
   "execution_count": 55,
   "metadata": {},
   "outputs": [
    {
     "data": {
      "text/plain": [
       "0    50438\n",
       "1    49562\n",
       "Name: churn, dtype: int64"
      ]
     },
     "execution_count": 55,
     "metadata": {},
     "output_type": "execute_result"
    }
   ],
   "source": [
    "df1[\"churn\"].value_counts()"
   ]
  },
  {
   "cell_type": "markdown",
   "metadata": {},
   "source": [
    "We can consider it as a balanced Dataset."
   ]
  },
  {
   "cell_type": "markdown",
   "metadata": {},
   "source": [
    "## Logistic Regression"
   ]
  },
  {
   "cell_type": "code",
   "execution_count": 56,
   "metadata": {},
   "outputs": [
    {
     "data": {
      "text/plain": [
       "LogisticRegression(C=1.0, class_weight=None, dual=False, fit_intercept=True,\n",
       "                   intercept_scaling=1, l1_ratio=None, max_iter=100,\n",
       "                   multi_class='auto', n_jobs=None, penalty='l2',\n",
       "                   random_state=None, solver='lbfgs', tol=0.0001, verbose=0,\n",
       "                   warm_start=False)"
      ]
     },
     "execution_count": 56,
     "metadata": {},
     "output_type": "execute_result"
    }
   ],
   "source": [
    "from sklearn.linear_model import LogisticRegression\n",
    "\n",
    "lr1 = LogisticRegression()\n",
    "lr1.fit(X_train,y_train)"
   ]
  },
  {
   "cell_type": "code",
   "execution_count": 57,
   "metadata": {},
   "outputs": [],
   "source": [
    "pred1 = lr1.predict(X_test)"
   ]
  },
  {
   "cell_type": "code",
   "execution_count": 58,
   "metadata": {},
   "outputs": [
    {
     "name": "stdout",
     "output_type": "stream",
     "text": [
      "Logistic Regression Accuracy:  0.5606\n"
     ]
    }
   ],
   "source": [
    "from sklearn.metrics import confusion_matrix,classification_report,accuracy_score,roc_auc_score,roc_curve,auc\n",
    "print(\"Logistic Regression Accuracy: \",accuracy_score(pred1,y_test))"
   ]
  },
  {
   "cell_type": "code",
   "execution_count": 59,
   "metadata": {},
   "outputs": [
    {
     "name": "stdout",
     "output_type": "stream",
     "text": [
      "Logistic Regression Confusion Matrix: \n",
      "[[8987 6199]\n",
      " [6983 7831]]\n"
     ]
    }
   ],
   "source": [
    "con_mat1 = confusion_matrix(y_test,pred1)\n",
    "print(\"Logistic Regression Confusion Matrix: \")\n",
    "print(con_mat1)"
   ]
  },
  {
   "cell_type": "code",
   "execution_count": 60,
   "metadata": {},
   "outputs": [
    {
     "name": "stdout",
     "output_type": "stream",
     "text": [
      "Logistic Regression Classification Report: \n",
      "              precision    recall  f1-score   support\n",
      "\n",
      "           0       0.56      0.59      0.58     15186\n",
      "           1       0.56      0.53      0.54     14814\n",
      "\n",
      "    accuracy                           0.56     30000\n",
      "   macro avg       0.56      0.56      0.56     30000\n",
      "weighted avg       0.56      0.56      0.56     30000\n",
      "\n"
     ]
    }
   ],
   "source": [
    "report1 = classification_report(y_test,pred1)\n",
    "print(\"Logistic Regression Classification Report: \")\n",
    "print(report1)"
   ]
  },
  {
   "cell_type": "code",
   "execution_count": 61,
   "metadata": {},
   "outputs": [
    {
     "data": {
      "image/png": "[encoded data removed]",
      "text/plain": [
       "<Figure size 432x288 with 1 Axes>"
      ]
     },
     "metadata": {
      "needs_background": "light"
     },
     "output_type": "display_data"
    }
   ],
   "source": [
    "##Computing false and true positive rates\n",
    "probs = lr1.predict_proba(X_test)\n",
    "preds = probs[:,1]\n",
    "fpr, tpr, threshold = roc_curve(y_test, preds, drop_intermediate=False)\n",
    "roc_auc = auc(fpr, tpr)\n",
    "plt.figure()\n",
    "##Adding the ROC\n",
    "plt.plot(fpr, tpr, 'r', label = 'AUC = %0.2f' % roc_auc)\n",
    "##Random FPR and TPR\n",
    "plt.plot([0, 1], [0, 1], color='blue', lw=2, linestyle='--')\n",
    "##Title and label\n",
    "plt.legend(loc = 'lower right')\n",
    "plt.xlabel('FPR')\n",
    "plt.ylabel('TPR')\n",
    "plt.title('ROC curve')\n",
    "plt.show()"
   ]
  },
  {
   "cell_type": "markdown",
   "metadata": {},
   "source": [
    "## Random Forests"
   ]
  },
  {
   "cell_type": "code",
   "execution_count": 62,
   "metadata": {},
   "outputs": [],
   "source": [
    "from sklearn.ensemble import RandomForestClassifier"
   ]
  },
  {
   "cell_type": "code",
   "execution_count": 63,
   "metadata": {},
   "outputs": [
    {
     "data": {
      "text/plain": [
       "RandomForestClassifier(bootstrap=True, ccp_alpha=0.0, class_weight=None,\n",
       "                       criterion='gini', max_depth=None, max_features='auto',\n",
       "                       max_leaf_nodes=None, max_samples=None,\n",
       "                       min_impurity_decrease=0.0, min_impurity_split=None,\n",
       "                       min_samples_leaf=1, min_samples_split=2,\n",
       "                       min_weight_fraction_leaf=0.0, n_estimators=100,\n",
       "                       n_jobs=None, oob_score=False, random_state=None,\n",
       "                       verbose=0, warm_start=False)"
      ]
     },
     "execution_count": 63,
     "metadata": {},
     "output_type": "execute_result"
    }
   ],
   "source": [
    "rf1 = RandomForestClassifier()\n",
    "rf1.fit(X_train,y_train)"
   ]
  },
  {
   "cell_type": "code",
   "execution_count": 64,
   "metadata": {},
   "outputs": [],
   "source": [
    "pred2 = rf1.predict(X_test)"
   ]
  },
  {
   "cell_type": "code",
   "execution_count": 65,
   "metadata": {},
   "outputs": [
    {
     "name": "stdout",
     "output_type": "stream",
     "text": [
      "Random Forests Accuracy:  0.5717666666666666\n"
     ]
    }
   ],
   "source": [
    "print(\"Random Forests Accuracy: \",accuracy_score(pred2,y_test))"
   ]
  },
  {
   "cell_type": "code",
   "execution_count": 66,
   "metadata": {},
   "outputs": [
    {
     "name": "stdout",
     "output_type": "stream",
     "text": [
      "Random Forests Confusion Matrix: \n",
      "[[9074 6112]\n",
      " [6735 8079]]\n"
     ]
    }
   ],
   "source": [
    "con_mat2 = confusion_matrix(y_test,pred2)\n",
    "print(\"Random Forests Confusion Matrix: \")\n",
    "print(con_mat2)"
   ]
  },
  {
   "cell_type": "code",
   "execution_count": 67,
   "metadata": {},
   "outputs": [
    {
     "name": "stdout",
     "output_type": "stream",
     "text": [
      "Random Forest Report: \n",
      "              precision    recall  f1-score   support\n",
      "\n",
      "           0       0.57      0.60      0.59     15186\n",
      "           1       0.57      0.55      0.56     14814\n",
      "\n",
      "    accuracy                           0.57     30000\n",
      "   macro avg       0.57      0.57      0.57     30000\n",
      "weighted avg       0.57      0.57      0.57     30000\n",
      "\n"
     ]
    }
   ],
   "source": [
    "report2 = classification_report(y_test,pred2)\n",
    "print(\"Random Forest Report: \")\n",
    "print(report2)"
   ]
  },
  {
   "cell_type": "code",
   "execution_count": 68,
   "metadata": {},
   "outputs": [
    {
     "data": {
      "image/png": "[encoded data removed]",
      "text/plain": [
       "<Figure size 432x288 with 1 Axes>"
      ]
     },
     "metadata": {
      "needs_background": "light"
     },
     "output_type": "display_data"
    }
   ],
   "source": [
    "##Computing false and true positive rates\n",
    "probs = rf1.predict_proba(X_test)\n",
    "preds = probs[:,1]\n",
    "fpr, tpr, threshold = roc_curve(y_test, preds, drop_intermediate=False)\n",
    "roc_auc = auc(fpr, tpr)\n",
    "plt.figure()\n",
    "##Adding the ROC\n",
    "plt.plot(fpr, tpr, 'r', label = 'AUC = %0.2f' % roc_auc)\n",
    "##Random FPR and TPR\n",
    "plt.plot([0, 1], [0, 1], color='blue', lw=2, linestyle='--')\n",
    "##Title and label\n",
    "plt.legend(loc = 'lower right')\n",
    "plt.xlabel('FPR')\n",
    "plt.ylabel('TPR')\n",
    "plt.title('ROC curve')\n",
    "plt.show()"
   ]
  },
  {
   "cell_type": "markdown",
   "metadata": {},
   "source": [
    "## Adaboost Classifier"
   ]
  },
  {
   "cell_type": "code",
   "execution_count": 69,
   "metadata": {},
   "outputs": [],
   "source": [
    "from sklearn.ensemble import AdaBoostClassifier"
   ]
  },
  {
   "cell_type": "code",
   "execution_count": 70,
   "metadata": {},
   "outputs": [
    {
     "data": {
      "text/plain": [
       "AdaBoostClassifier(algorithm='SAMME.R', base_estimator=None, learning_rate=1.0,\n",
       "                   n_estimators=50, random_state=None)"
      ]
     },
     "execution_count": 70,
     "metadata": {},
     "output_type": "execute_result"
    }
   ],
   "source": [
    "ab1 = AdaBoostClassifier()\n",
    "ab1.fit(X_train,y_train)"
   ]
  },
  {
   "cell_type": "code",
   "execution_count": 71,
   "metadata": {},
   "outputs": [],
   "source": [
    "pred3 = ab1.predict(X_test)"
   ]
  },
  {
   "cell_type": "code",
   "execution_count": 72,
   "metadata": {},
   "outputs": [
    {
     "name": "stdout",
     "output_type": "stream",
     "text": [
      "AdaBoost Classifier Accuracy:  0.5604666666666667\n"
     ]
    }
   ],
   "source": [
    "print(\"AdaBoost Classifier Accuracy: \",accuracy_score(pred3,y_test))"
   ]
  },
  {
   "cell_type": "code",
   "execution_count": 73,
   "metadata": {},
   "outputs": [
    {
     "name": "stdout",
     "output_type": "stream",
     "text": [
      "AdaBoost Classifier Confusion Matrix: \n",
      "[[8564 6622]\n",
      " [6564 8250]]\n"
     ]
    }
   ],
   "source": [
    "con_mat3 = confusion_matrix(y_test,pred3)\n",
    "print(\"AdaBoost Classifier Confusion Matrix: \")\n",
    "print(con_mat3)"
   ]
  },
  {
   "cell_type": "code",
   "execution_count": 74,
   "metadata": {},
   "outputs": [
    {
     "name": "stdout",
     "output_type": "stream",
     "text": [
      "AdaBoost Classifier Report: \n",
      "              precision    recall  f1-score   support\n",
      "\n",
      "           0       0.57      0.56      0.57     15186\n",
      "           1       0.55      0.56      0.56     14814\n",
      "\n",
      "    accuracy                           0.56     30000\n",
      "   macro avg       0.56      0.56      0.56     30000\n",
      "weighted avg       0.56      0.56      0.56     30000\n",
      "\n"
     ]
    }
   ],
   "source": [
    "report3 = classification_report(y_test,pred3)\n",
    "print(\"AdaBoost Classifier Report: \")\n",
    "print(report3)"
   ]
  },
  {
   "cell_type": "code",
   "execution_count": 75,
   "metadata": {},
   "outputs": [
    {
     "data": {
      "image/png": "[encoded data removed]",
      "text/plain": [
       "<Figure size 432x288 with 1 Axes>"
      ]
     },
     "metadata": {
      "needs_background": "light"
     },
     "output_type": "display_data"
    }
   ],
   "source": [
    "##Computing false and true positive rates\n",
    "probs = ab1.predict_proba(X_test)\n",
    "preds = probs[:,1]\n",
    "fpr, tpr, threshold = roc_curve(y_test, preds, drop_intermediate=False)\n",
    "roc_auc = auc(fpr, tpr)\n",
    "plt.figure()\n",
    "##Adding the ROC\n",
    "plt.plot(fpr, tpr, 'r', label = 'AUC = %0.2f' % roc_auc)\n",
    "##Random FPR and TPR\n",
    "plt.plot([0, 1], [0, 1], color='blue', lw=2, linestyle='--')\n",
    "##Title and label\n",
    "plt.legend(loc = 'lower right')\n",
    "plt.xlabel('FPR')\n",
    "plt.ylabel('TPR')\n",
    "plt.title('ROC curve')\n",
    "plt.show()"
   ]
  },
  {
   "cell_type": "code",
   "execution_count": null,
   "metadata": {},
   "outputs": [],
   "source": []
  },
  {
   "cell_type": "code",
   "execution_count": null,
   "metadata": {},
   "outputs": [],
   "source": []
  },
  {
   "cell_type": "code",
   "execution_count": null,
   "metadata": {},
   "outputs": [],
   "source": []
  }
 ],
 "metadata": {
  "kernelspec": {
   "display_name": "Python 3",
   "language": "python",
   "name": "python3"
  },
  "language_info": {
   "codemirror_mode": {
    "name": "ipython",
    "version": 3
   },
   "file_extension": ".py",
   "mimetype": "text/x-python",
   "name": "python",
   "nbconvert_exporter": "python",
   "pygments_lexer": "ipython3",
   "version": "3.7.6"
  }
 },
 "nbformat": 4,
 "nbformat_minor": 4
}
